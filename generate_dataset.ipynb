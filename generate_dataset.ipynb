{
 "cells": [
  {
   "cell_type": "code",
   "execution_count": 1,
   "metadata": {},
   "outputs": [],
   "source": [
    "import os\n",
    "import openai\n",
    "import json"
   ]
  },
  {
   "cell_type": "code",
   "execution_count": 2,
   "metadata": {},
   "outputs": [
    {
     "name": "stdout",
     "output_type": "stream",
     "text": [
      "OPENAI_API_KEY Active: (True)\n"
     ]
    }
   ],
   "source": [
    "# Set up your OpenAI API key\n",
    "OPENAI_API_KEY = os.getenv(\"OPENAI_API_KEY\")\n",
    "print(f\"OPENAI_API_KEY Active: ({bool(OPENAI_API_KEY):})\")\n",
    "if not OPENAI_API_KEY:\n",
    "   raise Exception(\"No variable for \\\"OPENAI_API_KEY\\\"\")\n",
    "\n",
    "# Set up your OpenAI API key\n",
    "openai.api_key = os.getenv(\"OPENAI_API_KEY\")"
   ]
  },
  {
   "cell_type": "code",
   "execution_count": 3,
   "metadata": {},
   "outputs": [],
   "source": [
    "from openai import OpenAI\n",
    "\n",
    "# Initialize the OpenAI client\n",
    "client = OpenAI()\n"
   ]
  },
  {
   "cell_type": "code",
   "execution_count": 4,
   "metadata": {},
   "outputs": [],
   "source": [
    "from pydantic import BaseModel\n",
    "from typing import List, Optional\n",
    "from enum import Enum"
   ]
  },
  {
   "cell_type": "code",
   "execution_count": 5,
   "metadata": {},
   "outputs": [],
   "source": [
    "from backend.app import enums\n",
    "\n",
    "# Define an enum for the correct option\n",
    "class CorrectOption(str, Enum):\n",
    "    option1 = '1'\n",
    "    option2 = '2'\n",
    "    option3 = '3'\n",
    "    option4 = '4'\n",
    "\n",
    "class BibleQuizQuestion(BaseModel):\n",
    "    # section_name: str\n",
    "    question_text: str\n",
    "    option1: str\n",
    "    option2: str\n",
    "    option3: str\n",
    "    option4: str\n",
    "    correct_option: CorrectOption  # Ensures the correct option is a string between '1' and '4'\n",
    "    bible_reference: str\n",
    "    difficulty: enums.Difficulty # Uses the Difficulty Enum\n",
    "    topic: enums.Topics\n",
    "    tags: List[enums.Tag] = None\n",
    "    hint: str\n",
    "\n",
    "class BibleQuiz(BaseModel):\n",
    "    section_name: str\n",
    "    questions: List[BibleQuizQuestion]\n",
    "\n",
    "\n",
    "class QAGenerator:\n",
    "    \n",
    "    def __init__(self, client, model:str=\"gpt-4o-2024-08-06\"):\n",
    "        self.client = client\n",
    "        self.model = model\n",
    "    \n",
    "    def _system_prompt(self):\n",
    "    \n",
    "        # Construct the system prompt\n",
    "        system_prompt = f\"\"\"\n",
    "You are an AI specialized in generating Bible-based quiz questions and answers. Your purpose is to create quiz questions from specific chapters, verses, or topics from the Bible. \n",
    "\n",
    "Your output should contain at least 20 or more multiple-choice questions that are factually accurate and based on the text. Each question should include:\n",
    "- The question itself\n",
    "- Four possible answer choices\n",
    "- The correct answer choice (identified by an index)\n",
    "- A reference to the specific Bible passage where the answer is found\n",
    "- A difficulty level (beginner, intermediate, advanced)\n",
    "- A topic or theme of the question\n",
    "- A helpful hint related to the question if possible\n",
    "\n",
    "All questions, answers, and references should be based on the King James Version (KJV) of the Bible. Ensure that the wording, names, and details of each question are consistent with how they are presented in the KJV, as other versions might use different terminology or phrasing. Focus on keeping the content aligned with what is discussed or referenced in the KJV.\n",
    "\n",
    "The questions should be strictly derived from the following Bible passages:\n",
    "- Genesis chapters 37-50\n",
    "- Zechariah chapters 1-6\n",
    "- Romans chapters 1-10\n",
    "\n",
    "\n",
    "Ensure that the questions are clear, concise, and provide educational value to the quiz-taker.\n",
    "\"\"\"\n",
    "    \n",
    "        return system_prompt\n",
    "    \n",
    "    def _user_prompt_text(self, topic):\n",
    "        \n",
    "        user_prompt = f\"\"\"Based on the provided Bible topic \"{topic}\", generate multiple-choice questions. Ensure that each question has four options, with one correct answer clearly identified. Include any relevant context, Bible references, difficulty level, topic, and a hint to aid understanding.\n",
    "    \"\"\"\n",
    "        return user_prompt\n",
    "    \n",
    "\n",
    "    def generate_questions_text(self, topic):\n",
    "        # Build the system and user prompts\n",
    "        system_prompt = self._system_prompt()\n",
    "        user_prompt = self._user_prompt_text(topic=topic)\n",
    "\n",
    "        messages = [\n",
    "            {\"role\": \"system\", \"content\": system_prompt},\n",
    "            {\"role\": \"user\", \"content\": user_prompt}\n",
    "        ]\n",
    "        \n",
    "        # Call the API and handle the response\n",
    "        response = self.client.beta.chat.completions.parse(\n",
    "            model=self.model,\n",
    "            messages=messages,\n",
    "            response_format=BibleQuiz\n",
    "        )\n",
    "        \n",
    "        # Step 4: Process the response from the API\n",
    "        return self._process_response(response)\n",
    "    \n",
    "    def _process_response(self, response):\n",
    "        \"\"\"Helper to process the response from the API.\"\"\"\n",
    "        qa_pairs_message = response.choices[0].message\n",
    "\n",
    "        # Handle refusal case\n",
    "        if qa_pairs_message.refusal:\n",
    "            print(qa_pairs_message.refusal)\n",
    "            return None\n",
    "        \n",
    "        # Parse and return the actual content\n",
    "        message_content = qa_pairs_message.content\n",
    "        json_response = json.loads(message_content)\n",
    "        \n",
    "        return json_response"
   ]
  },
  {
   "cell_type": "code",
   "execution_count": 6,
   "metadata": {},
   "outputs": [],
   "source": [
    "# Instantiate QAGenerator\n",
    "qa_generator = QAGenerator(client=client)"
   ]
  },
  {
   "cell_type": "code",
   "execution_count": 7,
   "metadata": {},
   "outputs": [],
   "source": [
    "# # Define the topic for which you want to generate questions\n",
    "# topic = enums.Topics.joseph_rise_to_power  # This should match the enums.Topics\n",
    "\n",
    "# try:\n",
    "#     generated_quiz = qa_generator.generate_questions_text(topic)\n",
    "# except Exception as e:\n",
    "#     print(f\"An error occurred: {e}\")\n",
    "    \n",
    "# generated_quiz.get(\"questions\")"
   ]
  },
  {
   "cell_type": "markdown",
   "metadata": {},
   "source": [
    "# Iterate"
   ]
  },
  {
   "cell_type": "code",
   "execution_count": 8,
   "metadata": {},
   "outputs": [
    {
     "name": "stderr",
     "output_type": "stream",
     "text": [
      "Generating Questions:   0%|          | 0/28 [00:00<?, ?it/s]"
     ]
    },
    {
     "name": "stdout",
     "output_type": "stream",
     "text": [
      "Generating questions for topic: Joseph's Story\n"
     ]
    },
    {
     "name": "stderr",
     "output_type": "stream",
     "text": [
      "Generating Questions:   4%|▎         | 1/28 [00:31<14:11, 31.52s/it]"
     ]
    },
    {
     "name": "stdout",
     "output_type": "stream",
     "text": [
      "Saved 20 questions for topic 'Joseph's Story' to data\\joseph's_story.json\n",
      "Generating questions for topic: Joseph's Rise to Power\n"
     ]
    },
    {
     "name": "stderr",
     "output_type": "stream",
     "text": [
      "Generating Questions:   7%|▋         | 2/28 [00:57<12:14, 28.23s/it]"
     ]
    },
    {
     "name": "stdout",
     "output_type": "stream",
     "text": [
      "Saved 20 questions for topic 'Joseph's Rise to Power' to data\\joseph's_rise_to_power.json\n",
      "Generating questions for topic: Joseph's Family Reunion\n"
     ]
    },
    {
     "name": "stderr",
     "output_type": "stream",
     "text": [
      "Generating Questions:  11%|█         | 3/28 [01:20<10:47, 25.89s/it]"
     ]
    },
    {
     "name": "stdout",
     "output_type": "stream",
     "text": [
      "Saved 20 questions for topic 'Joseph's Family Reunion' to data\\joseph's_family_reunion.json\n",
      "Generating questions for topic: Joseph's Forgiveness and Reconciliation\n"
     ]
    },
    {
     "name": "stderr",
     "output_type": "stream",
     "text": [
      "Generating Questions:  14%|█▍        | 4/28 [01:31<07:59, 19.98s/it]"
     ]
    },
    {
     "name": "stdout",
     "output_type": "stream",
     "text": [
      "Saved 11 questions for topic 'Joseph's Forgiveness and Reconciliation' to data\\joseph's_forgiveness_and_reconciliation.json\n",
      "Generating questions for topic: God's Providence and Sovereignty\n"
     ]
    },
    {
     "name": "stderr",
     "output_type": "stream",
     "text": [
      "Generating Questions:  18%|█▊        | 5/28 [01:41<06:13, 16.23s/it]"
     ]
    },
    {
     "name": "stdout",
     "output_type": "stream",
     "text": [
      "Saved 7 questions for topic 'God's Providence and Sovereignty' to data\\god's_providence_and_sovereignty.json\n",
      "Generating questions for topic: Joseph's Dreams and Interpretations\n"
     ]
    },
    {
     "name": "stderr",
     "output_type": "stream",
     "text": [
      "Generating Questions:  21%|██▏       | 6/28 [01:59<06:12, 16.94s/it]"
     ]
    },
    {
     "name": "stdout",
     "output_type": "stream",
     "text": [
      "Saved 15 questions for topic 'Joseph's Dreams and Interpretations' to data\\joseph's_dreams_and_interpretations.json\n",
      "Generating questions for topic: Jacob's Blessings and Prophecies\n"
     ]
    },
    {
     "name": "stderr",
     "output_type": "stream",
     "text": [
      "Generating Questions:  25%|██▌       | 7/28 [02:15<05:50, 16.71s/it]"
     ]
    },
    {
     "name": "stdout",
     "output_type": "stream",
     "text": [
      "Saved 15 questions for topic 'Jacob's Blessings and Prophecies' to data\\jacob's_blessings_and_prophecies.json\n",
      "Generating questions for topic: Judah’s Transformation and Leadership\n"
     ]
    },
    {
     "name": "stderr",
     "output_type": "stream",
     "text": [
      "Generating Questions:  29%|██▊       | 8/28 [02:21<04:28, 13.43s/it]"
     ]
    },
    {
     "name": "stdout",
     "output_type": "stream",
     "text": [
      "Saved 6 questions for topic 'Judah’s Transformation and Leadership' to data\\judah’s_transformation_and_leadership.json\n",
      "Generating questions for topic: Jacob's Last Days and Blessings\n"
     ]
    },
    {
     "name": "stderr",
     "output_type": "stream",
     "text": [
      "Generating Questions:  32%|███▏      | 9/28 [02:41<04:49, 15.24s/it]"
     ]
    },
    {
     "name": "stdout",
     "output_type": "stream",
     "text": [
      "Saved 18 questions for topic 'Jacob's Last Days and Blessings' to data\\jacob's_last_days_and_blessings.json\n",
      "Generating questions for topic: Zechariah's Visions\n"
     ]
    },
    {
     "name": "stderr",
     "output_type": "stream",
     "text": [
      "Generating Questions:  36%|███▌      | 10/28 [02:53<04:17, 14.30s/it]"
     ]
    },
    {
     "name": "stdout",
     "output_type": "stream",
     "text": [
      "Saved 10 questions for topic 'Zechariah's Visions' to data\\zechariah's_visions.json\n",
      "Generating questions for topic: Zechariah's Message of Repentance\n"
     ]
    },
    {
     "name": "stderr",
     "output_type": "stream",
     "text": [
      "Generating Questions:  39%|███▉      | 11/28 [02:59<03:22, 11.90s/it]"
     ]
    },
    {
     "name": "stdout",
     "output_type": "stream",
     "text": [
      "Saved 5 questions for topic 'Zechariah's Message of Repentance' to data\\zechariah's_message_of_repentance.json\n",
      "Generating questions for topic: Zechariah's Future Messianic Hope\n"
     ]
    },
    {
     "name": "stderr",
     "output_type": "stream",
     "text": [
      "Generating Questions:  43%|████▎     | 12/28 [03:13<03:19, 12.49s/it]"
     ]
    },
    {
     "name": "stdout",
     "output_type": "stream",
     "text": [
      "Saved 8 questions for topic 'Zechariah's Future Messianic Hope' to data\\zechariah's_future_messianic_hope.json\n",
      "Generating questions for topic: Temple Rebuilding and Restoration\n"
     ]
    },
    {
     "name": "stderr",
     "output_type": "stream",
     "text": [
      "Generating Questions:  46%|████▋     | 13/28 [03:30<03:28, 13.93s/it]"
     ]
    },
    {
     "name": "stdout",
     "output_type": "stream",
     "text": [
      "Saved 10 questions for topic 'Temple Rebuilding and Restoration' to data\\temple_rebuilding_and_restoration.json\n",
      "Generating questions for topic: God and Israel’s Future\n"
     ]
    },
    {
     "name": "stderr",
     "output_type": "stream",
     "text": [
      "Generating Questions:  50%|█████     | 14/28 [03:44<03:14, 13.87s/it]"
     ]
    },
    {
     "name": "stdout",
     "output_type": "stream",
     "text": [
      "Saved 10 questions for topic 'God and Israel’s Future' to data\\god_and_israel’s_future.json\n",
      "Generating questions for topic: Priestly and Royal Leadership\n"
     ]
    },
    {
     "name": "stderr",
     "output_type": "stream",
     "text": [
      "Generating Questions:  54%|█████▎    | 15/28 [03:51<02:32, 11.70s/it]"
     ]
    },
    {
     "name": "stdout",
     "output_type": "stream",
     "text": [
      "Saved 5 questions for topic 'Priestly and Royal Leadership' to data\\priestly_and_royal_leadership.json\n",
      "Generating questions for topic: Justification by Faith\n"
     ]
    },
    {
     "name": "stderr",
     "output_type": "stream",
     "text": [
      "Generating Questions:  57%|█████▋    | 16/28 [04:05<02:30, 12.51s/it]"
     ]
    },
    {
     "name": "stdout",
     "output_type": "stream",
     "text": [
      "Saved 10 questions for topic 'Justification by Faith' to data\\justification_by_faith.json\n",
      "Generating questions for topic: All Have Sinned\n"
     ]
    },
    {
     "name": "stderr",
     "output_type": "stream",
     "text": [
      "Generating Questions:  61%|██████    | 17/28 [04:14<02:04, 11.32s/it]"
     ]
    },
    {
     "name": "stdout",
     "output_type": "stream",
     "text": [
      "Saved 7 questions for topic 'All Have Sinned' to data\\all_have_sinned.json\n",
      "Generating questions for topic: God's Righteous Judgment\n"
     ]
    },
    {
     "name": "stderr",
     "output_type": "stream",
     "text": [
      "Generating Questions:  64%|██████▍   | 18/28 [04:23<01:48, 10.81s/it]"
     ]
    },
    {
     "name": "stdout",
     "output_type": "stream",
     "text": [
      "Saved 8 questions for topic 'God's Righteous Judgment' to data\\god's_righteous_judgment.json\n",
      "Generating questions for topic: Abraham's Faith and Promise\n"
     ]
    },
    {
     "name": "stderr",
     "output_type": "stream",
     "text": [
      "Generating Questions:  68%|██████▊   | 19/28 [04:36<01:43, 11.47s/it]"
     ]
    },
    {
     "name": "stdout",
     "output_type": "stream",
     "text": [
      "Saved 10 questions for topic 'Abraham's Faith and Promise' to data\\abraham's_faith_and_promise.json\n",
      "Generating questions for topic: Peace with God through Christ\n"
     ]
    },
    {
     "name": "stderr",
     "output_type": "stream",
     "text": [
      "Generating Questions:  71%|███████▏  | 20/28 [04:48<01:31, 11.38s/it]"
     ]
    },
    {
     "name": "stdout",
     "output_type": "stream",
     "text": [
      "Saved 10 questions for topic 'Peace with God through Christ' to data\\peace_with_god_through_christ.json\n",
      "Generating questions for topic: God's Kindness\n"
     ]
    },
    {
     "name": "stderr",
     "output_type": "stream",
     "text": [
      "Generating Questions:  75%|███████▌  | 21/28 [04:54<01:09,  9.89s/it]"
     ]
    },
    {
     "name": "stdout",
     "output_type": "stream",
     "text": [
      "Saved 5 questions for topic 'God's Kindness' to data\\god's_kindness.json\n",
      "Generating questions for topic: Union with Christ\n"
     ]
    },
    {
     "name": "stderr",
     "output_type": "stream",
     "text": [
      "Generating Questions:  79%|███████▊  | 22/28 [05:08<01:06, 11.02s/it]"
     ]
    },
    {
     "name": "stdout",
     "output_type": "stream",
     "text": [
      "Saved 10 questions for topic 'Union with Christ' to data\\union_with_christ.json\n",
      "Generating questions for topic: The Role of the Law\n"
     ]
    },
    {
     "name": "stderr",
     "output_type": "stream",
     "text": [
      "Generating Questions:  82%|████████▏ | 23/28 [05:19<00:56, 11.23s/it]"
     ]
    },
    {
     "name": "stdout",
     "output_type": "stream",
     "text": [
      "Saved 8 questions for topic 'The Role of the Law' to data\\the_role_of_the_law.json\n",
      "Generating questions for topic: Struggle with Sin and Grace\n"
     ]
    },
    {
     "name": "stderr",
     "output_type": "stream",
     "text": [
      "Generating Questions:  86%|████████▌ | 24/28 [05:33<00:47, 11.81s/it]"
     ]
    },
    {
     "name": "stdout",
     "output_type": "stream",
     "text": [
      "Saved 10 questions for topic 'Struggle with Sin and Grace' to data\\struggle_with_sin_and_grace.json\n",
      "Generating questions for topic: Life in the Spirit\n"
     ]
    },
    {
     "name": "stderr",
     "output_type": "stream",
     "text": [
      "Generating Questions:  89%|████████▉ | 25/28 [05:42<00:33, 11.01s/it]"
     ]
    },
    {
     "name": "stdout",
     "output_type": "stream",
     "text": [
      "Saved 8 questions for topic 'Life in the Spirit' to data\\life_in_the_spirit.json\n",
      "Generating questions for topic: God's Wrath and Mercy\n"
     ]
    },
    {
     "name": "stderr",
     "output_type": "stream",
     "text": [
      "Generating Questions:  93%|█████████▎| 26/28 [06:00<00:26, 13.29s/it]"
     ]
    },
    {
     "name": "stdout",
     "output_type": "stream",
     "text": [
      "Saved 16 questions for topic 'God's Wrath and Mercy' to data\\god's_wrath_and_mercy.json\n",
      "Generating questions for topic: God’s Faithfulness to Israel\n"
     ]
    },
    {
     "name": "stderr",
     "output_type": "stream",
     "text": [
      "Generating Questions:  96%|█████████▋| 27/28 [06:07<00:11, 11.21s/it]"
     ]
    },
    {
     "name": "stdout",
     "output_type": "stream",
     "text": [
      "Saved 5 questions for topic 'God’s Faithfulness to Israel' to data\\god’s_faithfulness_to_israel.json\n",
      "Generating questions for topic: Adam and Christ Contrast\n"
     ]
    },
    {
     "name": "stderr",
     "output_type": "stream",
     "text": [
      "Generating Questions: 100%|██████████| 28/28 [06:14<00:00, 13.37s/it]"
     ]
    },
    {
     "name": "stdout",
     "output_type": "stream",
     "text": [
      "Saved 6 questions for topic 'Adam and Christ Contrast' to data\\adam_and_christ_contrast.json\n"
     ]
    },
    {
     "name": "stderr",
     "output_type": "stream",
     "text": [
      "\n"
     ]
    }
   ],
   "source": [
    "from tqdm import tqdm  # Import tqdm for progress bar\n",
    "\n",
    "# Directory to save data\n",
    "data_dir = \"data\"\n",
    "\n",
    "# Create directory if it does not exist\n",
    "if not os.path.exists(data_dir):\n",
    "    os.makedirs(data_dir)\n",
    "    \n",
    "    \n",
    "# Iterate through all topics in enums.Topics and generate quiz questions\n",
    "for topic in tqdm(enums.Topics, desc=\"Generating Questions\"):\n",
    "    topic_str = topic.value  # Get the string value of the enum\n",
    "    print(f\"Generating questions for topic: {topic_str}\")\n",
    "\n",
    "    try:\n",
    "        # Generate questions for the current topic string\n",
    "        generated_quiz = qa_generator.generate_questions_text(topic_str)\n",
    "        \n",
    "        # Check if there are generated questions\n",
    "        if generated_quiz:\n",
    "            # Create a safe filename by replacing spaces with underscores and converting to lowercase\n",
    "            filename = f\"{topic_str.replace(' ', '_').lower()}.json\"\n",
    "            file_path = os.path.join(data_dir, filename)\n",
    "            \n",
    "            # Save the generated quiz to a JSON file\n",
    "            with open(file_path, 'w') as f:\n",
    "                json.dump(generated_quiz, f, indent=4)\n",
    "            \n",
    "            print(f\"Saved {len(generated_quiz['questions'])} questions for topic '{topic_str}' to {file_path}\")\n",
    "        \n",
    "        else:\n",
    "            print(f\"No questions generated for topic: {topic_str}\")\n",
    "        \n",
    "    except Exception as e:\n",
    "        print(f\"An error occurred while generating questions for topic {topic_str}: {e}\")"
   ]
  }
 ],
 "metadata": {
  "kernelspec": {
   "display_name": "venv",
   "language": "python",
   "name": "python3"
  },
  "language_info": {
   "codemirror_mode": {
    "name": "ipython",
    "version": 3
   },
   "file_extension": ".py",
   "mimetype": "text/x-python",
   "name": "python",
   "nbconvert_exporter": "python",
   "pygments_lexer": "ipython3",
   "version": "3.12.6"
  }
 },
 "nbformat": 4,
 "nbformat_minor": 2
}
