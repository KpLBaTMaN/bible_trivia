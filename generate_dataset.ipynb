{
 "cells": [
  {
   "cell_type": "code",
   "execution_count": 1,
   "metadata": {},
   "outputs": [],
   "source": [
    "import os\n",
    "import openai\n",
    "import json"
   ]
  },
  {
   "cell_type": "code",
   "execution_count": 2,
   "metadata": {},
   "outputs": [
    {
     "name": "stdout",
     "output_type": "stream",
     "text": [
      "OPENAI_API_KEY Active: (True)\n"
     ]
    }
   ],
   "source": [
    "# Set up your OpenAI API key\n",
    "OPENAI_API_KEY = os.getenv(\"OPENAI_API_KEY\")\n",
    "print(f\"OPENAI_API_KEY Active: ({bool(OPENAI_API_KEY):})\")\n",
    "if not OPENAI_API_KEY:\n",
    "   raise Exception(\"No variable for \\\"OPENAI_API_KEY\\\"\")\n",
    "\n",
    "# Set up your OpenAI API key\n",
    "openai.api_key = os.getenv(\"OPENAI_API_KEY\")"
   ]
  },
  {
   "cell_type": "code",
   "execution_count": 3,
   "metadata": {},
   "outputs": [],
   "source": [
    "from openai import OpenAI\n",
    "\n",
    "# Initialize the OpenAI client\n",
    "client = OpenAI()\n"
   ]
  },
  {
   "cell_type": "code",
   "execution_count": 4,
   "metadata": {},
   "outputs": [],
   "source": [
    "from pydantic import BaseModel\n",
    "from typing import List, Optional\n",
    "from enum import Enum"
   ]
  },
  {
   "cell_type": "code",
   "execution_count": 5,
   "metadata": {},
   "outputs": [],
   "source": [
    "from backend.app import enums\n",
    "\n",
    "# Define an enum for the correct option\n",
    "class CorrectOption(str, Enum):\n",
    "    option1 = '1'\n",
    "    option2 = '2'\n",
    "    option3 = '3'\n",
    "    option4 = '4'\n",
    "\n",
    "class BibleQuizQuestion(BaseModel):\n",
    "    # section_name: str\n",
    "    question_text: str\n",
    "    option1: str\n",
    "    option2: str\n",
    "    option3: str\n",
    "    option4: str\n",
    "    correct_option: CorrectOption  # Ensures the correct option is a string between '1' and '4'\n",
    "    bible_reference: str\n",
    "    difficulty: enums.Difficulty # Uses the Difficulty Enum\n",
    "    topic: enums.Topics\n",
    "    tags: List[enums.Tag] = None\n",
    "    hint: str\n",
    "\n",
    "class BibleQuiz(BaseModel):\n",
    "    section_name: str\n",
    "    questions: List[BibleQuizQuestion]\n",
    "\n",
    "\n",
    "class QAGenerator:\n",
    "    \n",
    "    def __init__(self, client, model:str=\"gpt-4o-2024-08-06\"):\n",
    "        self.client = client\n",
    "        self.model = model\n",
    "    \n",
    "    def _system_prompt(self):\n",
    "    \n",
    "        # Construct the system prompt\n",
    "        system_prompt = f\"\"\"\n",
    "You are an AI specialized in generating Bible-based quiz questions and answers. Your purpose is to create quiz questions from specific chapters, verses, or topics from the Bible. \n",
    "\n",
    "Your output should contain 10+ multiple-choice questions that are factually accurate and based on the text. Each question should include:\n",
    "- The question itself\n",
    "- Four possible answer choices\n",
    "- The correct answer choice (identified by an index)\n",
    "- A reference to the specific Bible passage where the answer is found\n",
    "- A difficulty level (beginner, intermediate, advanced)\n",
    "- A topic or theme of the question\n",
    "- A helpful hint related to the question if possible\n",
    "\n",
    "All questions, answers, and references should be based on the King James Version (KJV) of the Bible. Ensure that the wording, names, and details of each question are consistent with how they are presented in the KJV, as other versions might use different terminology or phrasing. Focus on keeping the content aligned with what is discussed or referenced in the KJV.\n",
    "\n",
    "The questions should be strictly derived from the following Bible passages:\n",
    "- Genesis chapters 37-50\n",
    "- Zechariah chapters 1-6\n",
    "- Romans chapters 1-10\n",
    "\n",
    "\n",
    "Ensure that the questions are clear, concise, and provide educational value to the quiz-taker.\n",
    "\"\"\"\n",
    "    \n",
    "        return system_prompt\n",
    "    \n",
    "    def _user_prompt_text(self, topic, type_of_question = None):\n",
    "        \n",
    "        if type_of_question == None:\n",
    "            user_prompt = f\"\"\"Based on the provided Bible topic \"{topic}\", generate multiple-choice questions. Ensure that each question has four options, with one correct answer clearly identified. Include any relevant context, Bible references, difficulty level, topic, and a hint to aid understanding.\n",
    "        \"\"\"\n",
    "        else:\n",
    "            user_prompt = f\"\"\"Based on the provided Bible topic \"{topic}\", generate {type_of_question} multiple-choice type questions. Ensure that each question has four options, with one correct answer clearly identified. Include any relevant context, Bible references, difficulty level, topic, and a hint to aid understanding.\n",
    "        You need to generate {type_of_question} type questions based on \"{topic}\".\n",
    "        \"\"\"\n",
    "            \n",
    "        return user_prompt\n",
    "    \n",
    "\n",
    "    def generate_questions_text(self, topic, type_of_question=None):\n",
    "        # Build the system and user prompts\n",
    "        system_prompt = self._system_prompt()\n",
    "        user_prompt = self._user_prompt_text(topic=topic, type_of_question=type_of_question)\n",
    "\n",
    "        messages = [\n",
    "            {\"role\": \"system\", \"content\": system_prompt},\n",
    "            {\"role\": \"user\", \"content\": user_prompt}\n",
    "        ]\n",
    "        \n",
    "        # Call the API and handle the response\n",
    "        response = self.client.beta.chat.completions.parse(\n",
    "            model=self.model,\n",
    "            messages=messages,\n",
    "            response_format=BibleQuiz\n",
    "        )\n",
    "        \n",
    "        # Step 4: Process the response from the API\n",
    "        return self._process_response(response)\n",
    "\n",
    "    \n",
    "    def _process_response(self, response):\n",
    "        \"\"\"Helper to process the response from the API.\"\"\"\n",
    "        qa_pairs_message = response.choices[0].message\n",
    "\n",
    "        # Handle refusal case\n",
    "        if qa_pairs_message.refusal:\n",
    "            print(qa_pairs_message.refusal)\n",
    "            return None\n",
    "        \n",
    "        # Parse and return the actual content\n",
    "        message_content = qa_pairs_message.content\n",
    "        json_response = json.loads(message_content)\n",
    "        \n",
    "        return json_response"
   ]
  },
  {
   "cell_type": "code",
   "execution_count": 6,
   "metadata": {},
   "outputs": [],
   "source": [
    "# Instantiate QAGenerator\n",
    "qa_generator = QAGenerator(client=client)"
   ]
  },
  {
   "cell_type": "code",
   "execution_count": 7,
   "metadata": {},
   "outputs": [],
   "source": [
    "# # Define the topic for which you want to generate questions\n",
    "# topic = enums.Topics.joseph_rise_to_power  # This should match the enums.Topics\n",
    "\n",
    "# try:\n",
    "#     generated_quiz = qa_generator.generate_questions_text(topic)\n",
    "# except Exception as e:\n",
    "#     print(f\"An error occurred: {e}\")\n",
    "    \n",
    "# generated_quiz.get(\"questions\")"
   ]
  },
  {
   "cell_type": "markdown",
   "metadata": {},
   "source": [
    "# Iterate"
   ]
  },
  {
   "cell_type": "markdown",
   "metadata": {},
   "source": [
    "# TOPICS"
   ]
  },
  {
   "cell_type": "code",
   "execution_count": 8,
   "metadata": {},
   "outputs": [
    {
     "name": "stderr",
     "output_type": "stream",
     "text": [
      "Generating Questions:   0%|          | 0/28 [00:00<?, ?it/s]"
     ]
    },
    {
     "name": "stdout",
     "output_type": "stream",
     "text": [
      "Generating questions for topic: Joseph's Story\n"
     ]
    },
    {
     "name": "stderr",
     "output_type": "stream",
     "text": [
      "Generating Questions:   4%|▎         | 1/28 [00:12<05:42, 12.68s/it]"
     ]
    },
    {
     "name": "stdout",
     "output_type": "stream",
     "text": [
      "Saved 10 questions for topic 'Joseph's Story' to data\\joseph's_story_event_sequencing.json\n",
      "Generating questions for topic: Joseph's Rise to Power\n"
     ]
    },
    {
     "name": "stderr",
     "output_type": "stream",
     "text": [
      "Generating Questions:   7%|▋         | 2/28 [00:20<04:09,  9.59s/it]"
     ]
    },
    {
     "name": "stdout",
     "output_type": "stream",
     "text": [
      "Saved 6 questions for topic 'Joseph's Rise to Power' to data\\joseph's_rise_to_power_event_sequencing.json\n",
      "Generating questions for topic: Joseph's Family Reunion\n"
     ]
    },
    {
     "name": "stderr",
     "output_type": "stream",
     "text": [
      "Generating Questions:  11%|█         | 3/28 [00:24<02:58,  7.13s/it]"
     ]
    },
    {
     "name": "stdout",
     "output_type": "stream",
     "text": [
      "Saved 3 questions for topic 'Joseph's Family Reunion' to data\\joseph's_family_reunion_event_sequencing.json\n",
      "Generating questions for topic: Joseph's Forgiveness and Reconciliation\n"
     ]
    },
    {
     "name": "stderr",
     "output_type": "stream",
     "text": [
      "Generating Questions:  14%|█▍        | 4/28 [00:34<03:19,  8.30s/it]"
     ]
    },
    {
     "name": "stdout",
     "output_type": "stream",
     "text": [
      "Saved 5 questions for topic 'Joseph's Forgiveness and Reconciliation' to data\\joseph's_forgiveness_and_reconciliation_event_sequencing.json\n",
      "Generating questions for topic: God's Providence and Sovereignty\n"
     ]
    },
    {
     "name": "stderr",
     "output_type": "stream",
     "text": [
      "Generating Questions:  18%|█▊        | 5/28 [00:46<03:42,  9.69s/it]"
     ]
    },
    {
     "name": "stdout",
     "output_type": "stream",
     "text": [
      "Saved 5 questions for topic 'God's Providence and Sovereignty' to data\\god's_providence_and_sovereignty_event_sequencing.json\n",
      "Generating questions for topic: Joseph's Dreams and Interpretations\n"
     ]
    },
    {
     "name": "stderr",
     "output_type": "stream",
     "text": [
      "Generating Questions:  21%|██▏       | 6/28 [00:53<03:11,  8.69s/it]"
     ]
    },
    {
     "name": "stdout",
     "output_type": "stream",
     "text": [
      "Saved 5 questions for topic 'Joseph's Dreams and Interpretations' to data\\joseph's_dreams_and_interpretations_event_sequencing.json\n",
      "Generating questions for topic: Jacob's Blessings and Prophecies\n"
     ]
    },
    {
     "name": "stderr",
     "output_type": "stream",
     "text": [
      "Generating Questions:  25%|██▌       | 7/28 [00:59<02:42,  7.74s/it]"
     ]
    },
    {
     "name": "stdout",
     "output_type": "stream",
     "text": [
      "Saved 2 questions for topic 'Jacob's Blessings and Prophecies' to data\\jacob's_blessings_and_prophecies_event_sequencing.json\n",
      "Generating questions for topic: Judah’s Transformation and Leadership\n"
     ]
    },
    {
     "name": "stderr",
     "output_type": "stream",
     "text": [
      "Generating Questions:  29%|██▊       | 8/28 [01:06<02:33,  7.68s/it]"
     ]
    },
    {
     "name": "stdout",
     "output_type": "stream",
     "text": [
      "Saved 4 questions for topic 'Judah’s Transformation and Leadership' to data\\judah’s_transformation_and_leadership_event_sequencing.json\n",
      "Generating questions for topic: Jacob's Last Days and Blessings\n"
     ]
    },
    {
     "name": "stderr",
     "output_type": "stream",
     "text": [
      "Generating Questions:  32%|███▏      | 9/28 [01:11<02:10,  6.89s/it]"
     ]
    },
    {
     "name": "stdout",
     "output_type": "stream",
     "text": [
      "Saved 1 questions for topic 'Jacob's Last Days and Blessings' to data\\jacob's_last_days_and_blessings_event_sequencing.json\n",
      "Generating questions for topic: Zechariah's Visions\n"
     ]
    },
    {
     "name": "stderr",
     "output_type": "stream",
     "text": [
      "Generating Questions:  36%|███▌      | 10/28 [01:18<02:04,  6.92s/it]"
     ]
    },
    {
     "name": "stdout",
     "output_type": "stream",
     "text": [
      "Saved 5 questions for topic 'Zechariah's Visions' to data\\zechariah's_visions_event_sequencing.json\n",
      "Generating questions for topic: Zechariah's Message of Repentance\n"
     ]
    },
    {
     "name": "stderr",
     "output_type": "stream",
     "text": [
      "Generating Questions:  39%|███▉      | 11/28 [01:28<02:13,  7.83s/it]"
     ]
    },
    {
     "name": "stdout",
     "output_type": "stream",
     "text": [
      "Saved 3 questions for topic 'Zechariah's Message of Repentance' to data\\zechariah's_message_of_repentance_event_sequencing.json\n",
      "Generating questions for topic: Zechariah's Future Messianic Hope\n"
     ]
    },
    {
     "name": "stderr",
     "output_type": "stream",
     "text": [
      "Generating Questions:  43%|████▎     | 12/28 [01:31<01:42,  6.43s/it]"
     ]
    },
    {
     "name": "stdout",
     "output_type": "stream",
     "text": [
      "Saved 1 questions for topic 'Zechariah's Future Messianic Hope' to data\\zechariah's_future_messianic_hope_event_sequencing.json\n",
      "Generating questions for topic: Temple Rebuilding and Restoration\n"
     ]
    },
    {
     "name": "stderr",
     "output_type": "stream",
     "text": [
      "Generating Questions:  46%|████▋     | 13/28 [01:39<01:40,  6.71s/it]"
     ]
    },
    {
     "name": "stdout",
     "output_type": "stream",
     "text": [
      "Saved 5 questions for topic 'Temple Rebuilding and Restoration' to data\\temple_rebuilding_and_restoration_event_sequencing.json\n",
      "Generating questions for topic: God and Israel’s Future\n"
     ]
    },
    {
     "name": "stderr",
     "output_type": "stream",
     "text": [
      "Generating Questions:  50%|█████     | 14/28 [01:44<01:25,  6.12s/it]"
     ]
    },
    {
     "name": "stdout",
     "output_type": "stream",
     "text": [
      "Saved 3 questions for topic 'God and Israel’s Future' to data\\god_and_israel’s_future_event_sequencing.json\n",
      "Generating questions for topic: Priestly and Royal Leadership\n"
     ]
    },
    {
     "name": "stderr",
     "output_type": "stream",
     "text": [
      "Generating Questions:  54%|█████▎    | 15/28 [01:49<01:16,  5.86s/it]"
     ]
    },
    {
     "name": "stdout",
     "output_type": "stream",
     "text": [
      "Saved 3 questions for topic 'Priestly and Royal Leadership' to data\\priestly_and_royal_leadership_event_sequencing.json\n",
      "Generating questions for topic: Justification by Faith\n"
     ]
    },
    {
     "name": "stderr",
     "output_type": "stream",
     "text": [
      "Generating Questions:  57%|█████▋    | 16/28 [01:57<01:20,  6.71s/it]"
     ]
    },
    {
     "name": "stdout",
     "output_type": "stream",
     "text": [
      "Saved 5 questions for topic 'Justification by Faith' to data\\justification_by_faith_event_sequencing.json\n",
      "Generating questions for topic: All Have Sinned\n"
     ]
    },
    {
     "name": "stderr",
     "output_type": "stream",
     "text": [
      "Generating Questions:  61%|██████    | 17/28 [02:05<01:15,  6.91s/it]"
     ]
    },
    {
     "name": "stdout",
     "output_type": "stream",
     "text": [
      "Saved 3 questions for topic 'All Have Sinned' to data\\all_have_sinned_event_sequencing.json\n",
      "Generating questions for topic: God's Righteous Judgment\n"
     ]
    },
    {
     "name": "stderr",
     "output_type": "stream",
     "text": [
      "Generating Questions:  64%|██████▍   | 18/28 [02:16<01:23,  8.30s/it]"
     ]
    },
    {
     "name": "stdout",
     "output_type": "stream",
     "text": [
      "Saved 4 questions for topic 'God's Righteous Judgment' to data\\god's_righteous_judgment_event_sequencing.json\n",
      "Generating questions for topic: Abraham's Faith and Promise\n"
     ]
    },
    {
     "name": "stderr",
     "output_type": "stream",
     "text": [
      "Generating Questions:  68%|██████▊   | 19/28 [02:25<01:16,  8.51s/it]"
     ]
    },
    {
     "name": "stdout",
     "output_type": "stream",
     "text": [
      "Saved 4 questions for topic 'Abraham's Faith and Promise' to data\\abraham's_faith_and_promise_event_sequencing.json\n",
      "Generating questions for topic: Peace with God through Christ\n"
     ]
    },
    {
     "name": "stderr",
     "output_type": "stream",
     "text": [
      "Generating Questions:  71%|███████▏  | 20/28 [02:40<01:23, 10.46s/it]"
     ]
    },
    {
     "name": "stdout",
     "output_type": "stream",
     "text": [
      "Saved 5 questions for topic 'Peace with God through Christ' to data\\peace_with_god_through_christ_event_sequencing.json\n",
      "Generating questions for topic: God's Kindness\n"
     ]
    },
    {
     "name": "stderr",
     "output_type": "stream",
     "text": [
      "Generating Questions:  75%|███████▌  | 21/28 [02:47<01:06,  9.45s/it]"
     ]
    },
    {
     "name": "stdout",
     "output_type": "stream",
     "text": [
      "Saved 5 questions for topic 'God's Kindness' to data\\god's_kindness_event_sequencing.json\n",
      "Generating questions for topic: Union with Christ\n"
     ]
    },
    {
     "name": "stderr",
     "output_type": "stream",
     "text": [
      "Generating Questions:  79%|███████▊  | 22/28 [02:53<00:49,  8.26s/it]"
     ]
    },
    {
     "name": "stdout",
     "output_type": "stream",
     "text": [
      "Saved 3 questions for topic 'Union with Christ' to data\\union_with_christ_event_sequencing.json\n",
      "Generating questions for topic: The Role of the Law\n"
     ]
    },
    {
     "name": "stderr",
     "output_type": "stream",
     "text": [
      "Generating Questions:  82%|████████▏ | 23/28 [03:02<00:43,  8.65s/it]"
     ]
    },
    {
     "name": "stdout",
     "output_type": "stream",
     "text": [
      "Saved 4 questions for topic 'The Role of the Law' to data\\the_role_of_the_law_event_sequencing.json\n",
      "Generating questions for topic: Struggle with Sin and Grace\n"
     ]
    },
    {
     "name": "stderr",
     "output_type": "stream",
     "text": [
      "Generating Questions:  86%|████████▌ | 24/28 [03:14<00:37,  9.43s/it]"
     ]
    },
    {
     "name": "stdout",
     "output_type": "stream",
     "text": [
      "Saved 5 questions for topic 'Struggle with Sin and Grace' to data\\struggle_with_sin_and_grace_event_sequencing.json\n",
      "Generating questions for topic: Life in the Spirit\n"
     ]
    },
    {
     "name": "stderr",
     "output_type": "stream",
     "text": [
      "Generating Questions:  89%|████████▉ | 25/28 [03:21<00:26,  8.78s/it]"
     ]
    },
    {
     "name": "stdout",
     "output_type": "stream",
     "text": [
      "Saved 5 questions for topic 'Life in the Spirit' to data\\life_in_the_spirit_event_sequencing.json\n",
      "Generating questions for topic: God's Wrath and Mercy\n"
     ]
    },
    {
     "name": "stderr",
     "output_type": "stream",
     "text": [
      "Generating Questions:  93%|█████████▎| 26/28 [03:29<00:17,  8.53s/it]"
     ]
    },
    {
     "name": "stdout",
     "output_type": "stream",
     "text": [
      "Saved 3 questions for topic 'God's Wrath and Mercy' to data\\god's_wrath_and_mercy_event_sequencing.json\n",
      "Generating questions for topic: God’s Faithfulness to Israel\n"
     ]
    },
    {
     "name": "stderr",
     "output_type": "stream",
     "text": [
      "Generating Questions:  96%|█████████▋| 27/28 [03:31<00:06,  6.68s/it]"
     ]
    },
    {
     "name": "stdout",
     "output_type": "stream",
     "text": [
      "Saved 1 questions for topic 'God’s Faithfulness to Israel' to data\\god’s_faithfulness_to_israel_event_sequencing.json\n",
      "Generating questions for topic: Adam and Christ Contrast\n"
     ]
    },
    {
     "name": "stderr",
     "output_type": "stream",
     "text": [
      "Generating Questions: 100%|██████████| 28/28 [03:41<00:00,  7.90s/it]"
     ]
    },
    {
     "name": "stdout",
     "output_type": "stream",
     "text": [
      "Saved 5 questions for topic 'Adam and Christ Contrast' to data\\adam_and_christ_contrast_event_sequencing.json\n"
     ]
    },
    {
     "name": "stderr",
     "output_type": "stream",
     "text": [
      "\n"
     ]
    }
   ],
   "source": [
    "import os\n",
    "import json\n",
    "from tqdm import tqdm  # Import tqdm for progress bar\n",
    "\n",
    "# Directory to save data\n",
    "data_dir = \"data\"\n",
    "\n",
    "# Create directory if it does not exist\n",
    "if not os.path.exists(data_dir):\n",
    "    os.makedirs(data_dir)\n",
    "\n",
    "# Define the type of questions to be generated\n",
    "types_of_questions = \"Event Sequencing\"\n",
    "\n",
    "# Iterate through all topics in enums.Topics and generate quiz questions\n",
    "for topic in tqdm(enums.Topics, desc=\"Generating Questions\"):\n",
    "    topic_str = topic.value  # Get the string value of the enum\n",
    "    print(f\"Generating questions for topic: {topic_str}\")\n",
    "\n",
    "    try:\n",
    "        # Generate questions for the current topic string, passing type_of_question\n",
    "        generated_quiz = qa_generator.generate_questions_text(topic_str, type_of_question=types_of_questions)\n",
    "        \n",
    "        # Check if there are generated questions\n",
    "        if generated_quiz:\n",
    "            # Create a safe filename by replacing spaces with underscores and converting to lowercase\n",
    "            if types_of_questions is None:\n",
    "                filename = f\"{topic_str.replace(' ', '_').lower()}.json\"\n",
    "            else:\n",
    "                filename = f\"{topic_str.replace(' ', '_').lower()}_{types_of_questions.replace(' ', '_').lower()}.json\"\n",
    "            file_path = os.path.join(data_dir, filename)\n",
    "            \n",
    "            # Save the generated quiz to a JSON file\n",
    "            with open(file_path, 'w') as f:\n",
    "                json.dump(generated_quiz, f, indent=4)\n",
    "            \n",
    "            print(f\"Saved {len(generated_quiz['questions'])} questions for topic '{topic_str}' to {file_path}\")\n",
    "        \n",
    "        else:\n",
    "            print(f\"No questions generated for topic: {topic_str}\")\n",
    "        \n",
    "    except Exception as e:\n",
    "        print(f\"An error occurred while generating questions for topic {topic_str}: {e}\")\n"
   ]
  },
  {
   "cell_type": "markdown",
   "metadata": {},
   "source": [
    "# Chapters"
   ]
  },
  {
   "cell_type": "code",
   "execution_count": 9,
   "metadata": {},
   "outputs": [],
   "source": [
    "# import os\n",
    "# import json\n",
    "# from tqdm import tqdm  # Import tqdm for progress bar\n",
    "\n",
    "# # Directory to save data\n",
    "# data_dir = \"data\"\n",
    "\n",
    "# # Create directory if it does not exist\n",
    "# if not os.path.exists(data_dir):\n",
    "#     os.makedirs(data_dir)\n",
    "\n",
    "# # Define the books and their respective chapters\n",
    "# bible_books = {\n",
    "#     \"Genesis\": range(37, 51),        # Chapters 37-50\n",
    "#     \"Zechariah\": range(1, 7),        # Chapters 1-6\n",
    "#     \"Romans\": range(1, 11)           # Chapters 1-10\n",
    "# }\n",
    "\n",
    "\n",
    "# types_of_questions = \"Thematic Questions\"\n",
    "# # Thematic Questions\n",
    "# # Fill in the blank - DONE\n",
    "# # Character Identification\n",
    "\n",
    "\n",
    "# # Iterate through all books and their chapters\n",
    "# for book, chapters in bible_books.items():\n",
    "#     for chapter in tqdm(chapters, desc=f\"Generating Questions for {book}\"):\n",
    "#         book_chapter_str = f\"{book} {chapter}\"  # Create a string representation for the book and chapter\n",
    "#         print(f\"Generating questions for {book_chapter_str}\")\n",
    "\n",
    "#         try:\n",
    "#             # Generate questions for the current book and chapter string\n",
    "#             generated_quiz = qa_generator.generate_questions_text(book_chapter_str, type_of_question=types_of_questions)\n",
    "            \n",
    "#             # Check if there are generated questions\n",
    "#             if generated_quiz:\n",
    "#                 # Create a safe filename by replacing spaces with underscores and converting to lowercase\n",
    "#                 if types_of_questions ==  None:\n",
    "#                     filename = f\"{book.lower()}_{chapter}.json\"\n",
    "#                 else:\n",
    "#                     filename = f\"{book.lower()}_{chapter} {types_of_questions}.json\"\n",
    "#                 file_path = os.path.join(data_dir, filename)\n",
    "                \n",
    "#                 # Save the generated quiz to a JSON file\n",
    "#                 with open(file_path, 'w') as f:\n",
    "#                     json.dump(generated_quiz, f, indent=4)\n",
    "                \n",
    "#                 print(f\"Saved {len(generated_quiz['questions'])} questions for {book_chapter_str} to {file_path}\")\n",
    "            \n",
    "#             else:\n",
    "#                 print(f\"No questions generated for {book_chapter_str}\")\n",
    "        \n",
    "#         except Exception as e:\n",
    "#             print(f\"An error occurred while generating questions for {book_chapter_str}: {e}\")"
   ]
  }
 ],
 "metadata": {
  "kernelspec": {
   "display_name": "venv",
   "language": "python",
   "name": "python3"
  },
  "language_info": {
   "codemirror_mode": {
    "name": "ipython",
    "version": 3
   },
   "file_extension": ".py",
   "mimetype": "text/x-python",
   "name": "python",
   "nbconvert_exporter": "python",
   "pygments_lexer": "ipython3",
   "version": "3.12.6"
  }
 },
 "nbformat": 4,
 "nbformat_minor": 2
}
